{
 "cells": [
  {
   "metadata": {},
   "cell_type": "markdown",
   "source": [
    "# Goal\n",
    "\n",
    "### Generating Dungeon's And Dragons Backstory\n",
    "\n",
    "Markov Chain relies heavily on the dataset it was trained on without understanding the context, thus is perfect to generate fantasy/artificial backstory. Markov Chain model can generate backstories for DND characters faster than other Deep Learning models as it will just bluff up stuff using the provided tokens.\n",
    "\n",
    "# Requirement\n",
    "\n",
    "### The Dataset\n",
    "\n",
    "Generated using:\n",
    "https://capitalizemytitle.com/character-generator/dnd-backstory/\n",
    "\n",
    "The parameters as follows:\n",
    "\n",
    "| Parameter         | Value           |\n",
    "|-------------------|-----------------|\n",
    "| Gender            | any             |\n",
    "| Character Name    | X               |\n",
    "| Character Details | (not specified) |\n",
    "| DnD Class         | any             |\n",
    "| DnD Race          | any             |\n",
    "\n",
    "The generator was run 5 times with each generation results in 3 paragraphs (3 lines), with total of 15 lines.\n",
    "It is then combined in [dataset/backstory-combined.txt](dataset/backstory-combined.txt).\n"
   ],
   "id": "b221318e2f28128d"
  },
  {
   "metadata": {},
   "cell_type": "markdown",
   "source": "### Importing the package",
   "id": "2b2247f20b9eee4"
  },
  {
   "cell_type": "code",
   "id": "initial_id",
   "metadata": {
    "collapsed": true,
    "ExecuteTime": {
     "end_time": "2025-05-15T19:14:32.573436Z",
     "start_time": "2025-05-15T19:14:32.570517Z"
    }
   },
   "source": "import markovify",
   "outputs": [],
   "execution_count": 9
  },
  {
   "metadata": {},
   "cell_type": "markdown",
   "source": "### Reading the train dataset",
   "id": "95b51542b9f8e571"
  },
  {
   "metadata": {
    "ExecuteTime": {
     "end_time": "2025-05-15T19:14:32.597021Z",
     "start_time": "2025-05-15T19:14:32.591809Z"
    }
   },
   "cell_type": "code",
   "source": [
    "with open(\"dataset/backstory-combined.txt\") as train_txt:\n",
    "    train_data = train_txt.read()\n",
    "\n",
    "train_data"
   ],
   "id": "7150335d218f4503",
   "outputs": [
    {
     "data": {
      "text/plain": [
       "'X, a tiefling with striking crimson skin and curling obsidian horns, was born during a violent storm in the town of Eldershade. His mother, a renowned herbalist named Liora, claimed that the tempest heralded his arrival as both an omen and a blessing. From an early age, X felt destined for more than the serene life of gathering herbs and tending to the local grove where she practiced her craft; he longed for adventure beyond the tranquil valley that sheltered him. As whispers of dark creatures creeping closer from the Shadow Vale reached their ears, Liora\\\\\\'s warnings echoed in his mind: \\\\\"The world outside is not kind to those who wield power.\\\\\" But drawn by tales of heroism and glory spun by passing travelers at local taverns, X couldn\\\\\\'t resist planting one foot on home soil while stretching another toward destiny.\\nWhen Liora vanished one moonless night without a traceâ€”taken by dark forces known only in folkloreâ€”X\\\\\\'s plans shifted drastically from idyllic exploration to vengeance-fueled determination. He donned well-worn leather armor, crafted himself into both protector and seeker of truth as he delved into forbidden texts left behind by his mother\\\\\\'s study. Therein lay secrets about ancient artifacts capable of unleashing magic potent enough to thwart whatever had taken her from himâ€”and perhaps others alike across Eldershade\\\\\\'s borders. The words became incantations upon his lips as darkness surrounded them all; fate sculpting him into something far greater than mere wanderlust could predict.\\nAs he set out under starlit skies towards perilous lands rife with mysteries unsolved and enemies unidentified calling forth shadows behind each tree line that rustled ominously at duskâ€”I am no longer just bound by blood or forgotten tiesâ€”but forged anew through courage ignited within turmoil aimed firmly ahead while stepping past fear itselfâ€”that\\\\\\'s when realization struck fiercely true: even if my journey ends here tonight or continues infinitely furtherâ€¦those wanting light must first embrace their own inner shadow too.\\nX hails from a forgotten village nestled deep within the Whispering Woods, where ancient trees loom tall and shadows dance beneath their canopies. The village was once a vibrant hub for those who sought the tranquility of nature, but when dark sorcery seeped into the land, it transformed into a ghost town. Cursed by an unknown force, the villagers slowly succumbed to paranoia and madness. X\\'s parents were among the last few to resist its pull, dedicating themselves to protecting their home with rituals passed down through generationsâ€”until one fateful night when they simply vanished.\\nDetermined not to let despair take root in their heart, X set out on a journey seeking answers about their family\\'s disappearance and how to lift the curse plaguing their village. Alongside an elusive fox spirit named Yara that only appeared under moonlight, X learned to harness magic drawn directly from nature itself. However, this connection came at a price; every time they cast spells or used enchanted abilities during dangerous encounters in distant lands like Iron Hollow or Emberfall Canyon; something vital slipped further away from themâ€”a memory here or fragment of emotion there.\\nNow wandering far beyond familiar woods armed with knowledge yet haunted by uncertainty as whispers echo around them like phantoms calling for helpâ€”that perhaps what remains of their loved ones exists somewhere between life and lost dreamsâ€”X stands at various crossroads filled with quests that challenge not just physical prowess but also moral choices about sacrifice versus selfishness while searching fervently for redemption both personal and communal before it slips completely through fragile fingers forevermore into shadowy oblivion where even light dares not tread anymore.\\nX was born under a blood-red moon in the isolated village of Elden Hollow, a secluded place shrouded in mystery and superstition. His mother, an enigmatic herbalist rumored to possess ancient magic, raised him with tales of his ancestors who were once revered for their communion with nature\\\\\\'s spirits. Handed down through generations was the lore of the Verdant Bladesâ€”an order committed to protecting the balance between humanity and the wild. Yet, when X turned ten, disaster struck: a marauding band of mercenaries descended upon Elden Hollow seeking revenge on his mother for refusing to sell her potions as weapons. The village lay in ruin by dawn; only X survived, saved by a protective spell cast at the last moment that bound him with elemental energy.\\nAs he matured fleeing into dense forests and hidden groves, X honed his innate abilities among woodland creatures and learned to harness nature\\\\\\'s wrath while cultivating sacred herbs. Over time rumors began swirling around himâ€”a phantom who roamed from shadow to shadowâ€”striking fear into those who threatened wildlife or sought destruction for profit. However, it wasn\\\\\\'t merely vengeance guiding him; there existed an unwavering desire within his heartâ€”a need to reclaim what had been lost and protect innocents like those in Elden Hollow from suffering similar fates.\\nYears later, standing on those same scarred lands that birthed so many memories both light and dark, X felt an ember kindling within himselfâ€”the knowledge that destiny beckoned once more beyond desolation\\\\\\'s grip. With spirits whispering through rustling leaves urging courage forward against encroaching darkness looming over distant realms where greed twisted hearts anew; it became clear: he would become not just protector but legendary guardian reborn from ashesâ€”to restore harmony before shadows consumed all hope forevermore.\\nX was once known as Xaldrin, a name whispered in reverence among the villagers of Eldermere. Born to a humble family of herbalists, X displayed an extraordinary affinity for nature from a young age. While other children played games in the sun-drenched meadows, he found solace amidst the whispering leaves and blooming flowers. His parents nurtured this bond with nature, teaching him about healing herbs and ancient lore that had been passed down through generations. However, it was during those formative years that calamity struck; a mysterious plague descended upon Eldermere, ravaging crops and claiming lives. Fueled by desperation and driven by an unyielding spirit, X turned to forbidden texts hidden in his late grandfather\\\\\\'s attic.\\nThrough these tomes came revelationsâ€”powers beyond comprehension but also dark secrets intertwined with feral magic. As he delved deeper into this arcane knowledge, X felt the embrace of untamed forces infused within him; his skin shimmered with hues reminiscent of moonlit glades under starry nights. Yet power has its price: each incantation drained fragments of his very soul while bestowing strength over life itself. The village\\\\\\'s fate lay within his hands; he ultimately succeeded in crafting an antidote that saved Eldermere from doom but at great costâ€”he inadvertently weakened himself in doing so.\\nAfter curing the village but losing part of who he once wasâ€”stripped away like bark clinging too closely to a treeâ€”X cast off the bonds of home seeking understanding and redemption on far-flung roads where lush forests beckoned alongside cursed ruins steeped in bloodshed. Haunted yet steadfast as memories quickened shadows around him whenever dusk fell near treetops or old homes faded into twilight mistâ€”the echoes began calling forth traits more primal than any human could contain! Thus embarked upon a journey both inwardly perilous yet externally thrilling as battles erupted between light and dark affiliations testing loyalties along unexpected pathsâ€”the choice remained only one: would destiny mold him anew or devour what little remains?\\nIn a bustling city where the cobblestone streets whisper secrets and shadows dance under flickering lanterns, X was born in the heart of Tharindal. An unremarkable child to an equally ordinary family, they lived in a cramped quarter with their motherâ€”a skilled seamstressâ€”and father, a shipwright dreaming of distant horizons. But from a young age, X felt an alluring call towards adventure that often led them into mischief as they roamed through narrow alleyways and hidden tunnels beneath the city. Wandering beyond their mundane existence ignited within them an insatiable curiosity for history\\'s forgotten tales and ancient artifacts.\\nAs fate would have it, one evening while exploring abandoned catacombs rumored to house treasures from long-forgotten empires, X stumbled upon a tattered tome sealed away behind crumbling stone. The moment they opened its pages, whispers pulsed through the airâ€”echoes of necromancy entwined with arcane knowledge. This mysterious grimoire granted them powers previously unknown but came at a price: gradually drawing X into darker realms of magic. As years passed under its influence, they honed these newfound abilities as both scholar and thief, developing skills that allowed them to blend seamlessly into nocturnal settings like water merging with nightfall.\\nNow known among thieves as \"The Shadow Weaver,\" X walks a fine line between light and dark; emboldened by ambition yet haunted by questions about morality and purpose every time they gaze upon their stolen relics or read forbidden spells by candlelight. With each passing day spent slipping past guards in gilded halls or stealing enchanted baubles from corrupt nobility who hoard wealth meant for struggling commoners, deep down lies the hope that one such artifact might unveil answers about destiny and lend clarity over whether this path is woven from selfish desire or if there remains more meaningful reparations due before dawn rises on Tharindal once again. At last aware of their journey\\'s deeper significance lurking just beyond reachâ€”not merely escaping obscurity but discovering their true self amidst echoes lingering between shadowsâ€”X grips tightly onto possibility itself; ready at last to find redemption amidst all darkness enveloping them fully in anticipation for what awaits ahead.'"
      ]
     },
     "execution_count": 10,
     "metadata": {},
     "output_type": "execute_result"
    }
   ],
   "execution_count": 10
  },
  {
   "metadata": {},
   "cell_type": "markdown",
   "source": "### Replacing the X (character name context)",
   "id": "55a922008d5342dd"
  },
  {
   "metadata": {
    "ExecuteTime": {
     "end_time": "2025-05-15T19:14:32.642398Z",
     "start_time": "2025-05-15T19:14:32.639593Z"
    }
   },
   "cell_type": "code",
   "source": [
    "CHARACTER_NAME = \"Circle Lovelace\"\n",
    "\n",
    "train_data = train_data.replace('X', CHARACTER_NAME)"
   ],
   "id": "da1a1a7671e8be1e",
   "outputs": [],
   "execution_count": 11
  },
  {
   "metadata": {},
   "cell_type": "markdown",
   "source": "### Building the model",
   "id": "11eb34b151094243"
  },
  {
   "metadata": {
    "ExecuteTime": {
     "end_time": "2025-05-15T19:14:32.669981Z",
     "start_time": "2025-05-15T19:14:32.661764Z"
    }
   },
   "cell_type": "code",
   "source": [
    "# Number of words a next word depends on\n",
    "state_size = 2\n",
    "\n",
    "markov_model = markovify.Text(\n",
    "    input_text=train_data,\n",
    "    state_size=state_size\n",
    ")\n",
    "\n",
    "markov_model.state_size"
   ],
   "id": "a36688791b9b52a9",
   "outputs": [
    {
     "data": {
      "text/plain": [
       "2"
      ]
     },
     "execution_count": 12,
     "metadata": {},
     "output_type": "execute_result"
    }
   ],
   "execution_count": 12
  },
  {
   "metadata": {
    "ExecuteTime": {
     "end_time": "2025-05-15T19:14:32.720277Z",
     "start_time": "2025-05-15T19:14:32.714625Z"
    }
   },
   "cell_type": "code",
   "source": [
    "# (Optional) Compile to improve the model's generation speed and reduce its size\n",
    "markov_model = markov_model.compile()"
   ],
   "id": "3bd4cf27729c5234",
   "outputs": [],
   "execution_count": 13
  },
  {
   "metadata": {},
   "cell_type": "markdown",
   "source": "### Generating Sentences",
   "id": "a755ca47480b462c"
  },
  {
   "metadata": {
    "ExecuteTime": {
     "end_time": "2025-05-15T19:14:32.748077Z",
     "start_time": "2025-05-15T19:14:32.744467Z"
    }
   },
   "cell_type": "code",
   "source": [
    "# Generates a sentence no more than 300 characters\n",
    "result = markov_model.make_short_sentence(300)\n",
    "\n",
    "print(result)"
   ],
   "id": "af3a91b250d334d6",
   "outputs": [
    {
     "name": "stdout",
     "output_type": "stream",
     "text": [
      "As years passed under its influence, they honed these newfound abilities as both an omen and a blessing.\n"
     ]
    }
   ],
   "execution_count": 14
  },
  {
   "metadata": {},
   "cell_type": "markdown",
   "source": "### Generating a paragraph with N sentences",
   "id": "d14e9e19737ea722"
  },
  {
   "metadata": {
    "ExecuteTime": {
     "end_time": "2025-05-15T19:14:32.781535Z",
     "start_time": "2025-05-15T19:14:32.776407Z"
    }
   },
   "cell_type": "code",
   "source": [
    "# Generation parameters\n",
    "N_SENTENCES = 5\n",
    "N_CHARACTER_LIMIT = 300\n",
    "\n",
    "results = []\n",
    "for _ in range(N_SENTENCES):\n",
    "    results.append(markov_model.make_short_sentence(N_CHARACTER_LIMIT))\n",
    "\n",
    "print(\" \".join(results))"
   ],
   "id": "80b63b6a2bfde855",
   "outputs": [
    {
     "name": "stdout",
     "output_type": "stream",
     "text": [
      "Yet power has its price: each incantation drained fragments of his ancestors who were once revered for their communion with nature\\'s spirits. As years passed under its influence, they honed these newfound abilities as both an omen and a blessing. Yet power has its price: each incantation drained fragments of his ancestors who were once revered for their communion with nature\\'s spirits. Yet, when Circle Lovelace honed his innate abilities among woodland creatures and learned to harness magic drawn directly from nature itself. Circle Lovelace, a tiefling with striking crimson skin and curling obsidian horns, was born under a blood-red moon in the sun-drenched meadows, he found solace amidst the whispering leaves and blooming flowers.\n"
     ]
    }
   ],
   "execution_count": 15
  },
  {
   "metadata": {
    "ExecuteTime": {
     "end_time": "2025-05-15T19:14:32.827048Z",
     "start_time": "2025-05-15T19:14:32.820927Z"
    }
   },
   "cell_type": "code",
   "source": [
    "# Generation parameters\n",
    "N_SENTENCES = 5\n",
    "min_words = 4\n",
    "max_words = 25\n",
    "\n",
    "results = []\n",
    "for _ in range(N_SENTENCES):\n",
    "    result = None\n",
    "    # Prevent no result\n",
    "    while result is None:\n",
    "        result = markov_model.make_sentence(\n",
    "        min_words=min_words,\n",
    "        max_words=max_words\n",
    "    )\n",
    "    results.append(result)\n",
    "\n",
    "print(\" \".join(results))"
   ],
   "id": "6801c593d08d53de",
   "outputs": [
    {
     "name": "stdout",
     "output_type": "stream",
     "text": [
      "Yet power has its price: each incantation drained fragments of his ancestors who were once revered for their communion with nature\\'s spirits. As he delved deeper into this arcane knowledge, Circle Lovelace learned to harness magic drawn directly from nature itself. Cursed by an unyielding spirit, Circle Lovelace was born under a blood-red moon in the town of Eldershade. Circle Lovelace honed his innate abilities among woodland creatures and learned to harness magic drawn directly from nature itself. While other children played games in the heart of Tharindal.\n"
     ]
    }
   ],
   "execution_count": 16
  }
 ],
 "metadata": {
  "kernelspec": {
   "display_name": "Python 3",
   "language": "python",
   "name": "python3"
  },
  "language_info": {
   "codemirror_mode": {
    "name": "ipython",
    "version": 2
   },
   "file_extension": ".py",
   "mimetype": "text/x-python",
   "name": "python",
   "nbconvert_exporter": "python",
   "pygments_lexer": "ipython2",
   "version": "2.7.6"
  }
 },
 "nbformat": 4,
 "nbformat_minor": 5
}
