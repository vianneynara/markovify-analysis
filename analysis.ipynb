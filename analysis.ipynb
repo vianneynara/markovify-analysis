{
 "cells": [
  {
   "metadata": {},
   "cell_type": "markdown",
   "source": [
    "# Goal\n",
    "\n",
    "### Generating Dungeon's And Dragons Backstory\n",
    "\n",
    "Markov Chain relies heavily on the dataset it was trained on without understanding the context, thus is perfect to generate fantasy/artificial backstory. Markov Chain model can generate backstories for DND characters faster than other Deep Learning models as it will just bluff up stuff using the provided tokens.\n",
    "\n",
    "# Requirement\n",
    "\n",
    "### The Dataset\n",
    "\n",
    "Generated using:\n",
    "https://capitalizemytitle.com/character-generator/dnd-backstory/\n",
    "\n",
    "The parameters as follows:\n",
    "\n",
    "| Parameter         | Value           |\n",
    "|-------------------|-----------------|\n",
    "| Gender            | any             |\n",
    "| Character Name    | X               |\n",
    "| Character Details | (not specified) |\n",
    "| DnD Class         | any             |\n",
    "| DnD Race          | any             |\n",
    "\n",
    "The generator was run 10 times with each generation results in 3 paragraphs (3 lines), with total of 30 lines.\n",
    "It is then combined in [dataset/backstory-combined.txt](dataset/backstory-combined.txt).\n"
   ],
   "id": "b221318e2f28128d"
  },
  {
   "metadata": {},
   "cell_type": "markdown",
   "source": "### Importing the package",
   "id": "2b2247f20b9eee4"
  },
  {
   "cell_type": "code",
   "id": "initial_id",
   "metadata": {
    "collapsed": true,
    "ExecuteTime": {
     "end_time": "2025-05-15T19:35:12.747759Z",
     "start_time": "2025-05-15T19:35:12.739408Z"
    }
   },
   "source": "import markovify",
   "outputs": [],
   "execution_count": 1
  },
  {
   "metadata": {},
   "cell_type": "markdown",
   "source": "### Reading the train dataset",
   "id": "95b51542b9f8e571"
  },
  {
   "metadata": {
    "ExecuteTime": {
     "end_time": "2025-05-15T19:35:12.902060Z",
     "start_time": "2025-05-15T19:35:12.895767Z"
    }
   },
   "cell_type": "code",
   "source": [
    "with open(\"dataset/backstory-combined.txt\") as train_txt:\n",
    "    train_data = train_txt.read()\n",
    "\n",
    "train_data"
   ],
   "id": "7150335d218f4503",
   "outputs": [
    {
     "data": {
      "text/plain": [
       "'X, a tiefling with striking crimson skin and curling obsidian horns, was born during a violent storm in the town of Eldershade. His mother, a renowned herbalist named Liora, claimed that the tempest heralded his arrival as both an omen and a blessing. From an early age, X felt destined for more than the serene life of gathering herbs and tending to the local grove where she practiced her craft; he longed for adventure beyond the tranquil valley that sheltered him. As whispers of dark creatures creeping closer from the Shadow Vale reached their ears, Liora\\'s warnings echoed in his mind: \\\\\"The world outside is not kind to those who wield power.\\\\\" But drawn by tales of heroism and glory spun by passing travelers at local taverns, X couldn\\'t resist planting one foot on home soil while stretching another toward destiny.\\nWhen Liora vanished one moonless night without a traceâ€”taken by dark forces known only in folkloreâ€”X\\'s plans shifted drastically from idyllic exploration to vengeance-fueled determination. He donned well-worn leather armor, crafted himself into both protector and seeker of truth as he delved into forbidden texts left behind by his mother\\'s study. Therein lay secrets about ancient artifacts capable of unleashing magic potent enough to thwart whatever had taken her from himâ€”and perhaps others alike across Eldershade\\'s borders. The words became incantations upon his lips as darkness surrounded them all; fate sculpting him into something far greater than mere wanderlust could predict.\\nAs he set out under starlit skies towards perilous lands rife with mysteries unsolved and enemies unidentified calling forth shadows behind each tree line that rustled ominously at duskâ€”I am no longer just bound by blood or forgotten tiesâ€”but forged anew through courage ignited within turmoil aimed firmly ahead while stepping past fear itselfâ€”that\\'s when realization struck fiercely true: even if my journey ends here tonight or continues infinitely furtherâ€¦those wanting light must first embrace their own inner shadow too.\\nX hails from a forgotten village nestled deep within the Whispering Woods, where ancient trees loom tall and shadows dance beneath their canopies. The village was once a vibrant hub for those who sought the tranquility of nature, but when dark sorcery seeped into the land, it transformed into a ghost town. Cursed by an unknown force, the villagers slowly succumbed to paranoia and madness. X\\'s parents were among the last few to resist its pull, dedicating themselves to protecting their home with rituals passed down through generationsâ€”until one fateful night when they simply vanished.\\nDetermined not to let despair take root in their heart, X set out on a journey seeking answers about their family\\'s disappearance and how to lift the curse plaguing their village. Alongside an elusive fox spirit named Yara that only appeared under moonlight, X learned to harness magic drawn directly from nature itself. However, this connection came at a price; every time they cast spells or used enchanted abilities during dangerous encounters in distant lands like Iron Hollow or Emberfall Canyon; something vital slipped further away from themâ€”a memory here or fragment of emotion there.\\nNow wandering far beyond familiar woods armed with knowledge yet haunted by uncertainty as whispers echo around them like phantoms calling for helpâ€”that perhaps what remains of their loved ones exists somewhere between life and lost dreamsâ€”X stands at various crossroads filled with quests that challenge not just physical prowess but also moral choices about sacrifice versus selfishness while searching fervently for redemption both personal and communal before it slips completely through fragile fingers forevermore into shadowy oblivion where even light dares not tread anymore.\\nX was born under a blood-red moon in the isolated village of Elden Hollow, a secluded place shrouded in mystery and superstition. His mother, an enigmatic herbalist rumored to possess ancient magic, raised him with tales of his ancestors who were once revered for their communion with nature\\'s spirits. Handed down through generations was the lore of the Verdant Bladesâ€”an order committed to protecting the balance between humanity and the wild. Yet, when X turned ten, disaster struck: a marauding band of mercenaries descended upon Elden Hollow seeking revenge on his mother for refusing to sell her potions as weapons. The village lay in ruin by dawn; only X survived, saved by a protective spell cast at the last moment that bound him with elemental energy.\\nAs he matured fleeing into dense forests and hidden groves, X honed his innate abilities among woodland creatures and learned to harness nature\\'s wrath while cultivating sacred herbs. Over time rumors began swirling around himâ€”a phantom who roamed from shadow to shadowâ€”striking fear into those who threatened wildlife or sought destruction for profit. However, it wasn\\'t merely vengeance guiding him; there existed an unwavering desire within his heartâ€”a need to reclaim what had been lost and protect innocents like those in Elden Hollow from suffering similar fates.\\nYears later, standing on those same scarred lands that birthed so many memories both light and dark, X felt an ember kindling within himselfâ€”the knowledge that destiny beckoned once more beyond desolation\\'s grip. With spirits whispering through rustling leaves urging courage forward against encroaching darkness looming over distant realms where greed twisted hearts anew; it became clear: he would become not just protector but legendary guardian reborn from ashesâ€”to restore harmony before shadows consumed all hope forevermore.\\nX, a name whispered in reverence among the villagers of Eldermere. Born to a humble family of herbalists, X displayed an extraordinary affinity for nature from a young age. While other children played games in the sun-drenched meadows, he found solace amidst the whispering leaves and blooming flowers. His parents nurtured this bond with nature, teaching him about healing herbs and ancient lore that had been passed down through generations. However, it was during those formative years that calamity struck; a mysterious plague descended upon Eldermere, ravaging crops and claiming lives. Fueled by desperation and driven by an unyielding spirit, X turned to forbidden texts hidden in his late grandfather\\'s attic.\\nThrough these tomes came revelationsâ€”powers beyond comprehension but also dark secrets intertwined with feral magic. As he delved deeper into this arcane knowledge, X felt the embrace of untamed forces infused within him; his skin shimmered with hues reminiscent of moonlit glades under starry nights. Yet power has its price: each incantation drained fragments of his very soul while bestowing strength over life itself. The village\\'s fate lay within his hands; he ultimately succeeded in crafting an antidote that saved Eldermere from doom but at great costâ€”he inadvertently weakened himself in doing so.\\nAfter curing the village but losing part of who he once wasâ€”stripped away like bark clinging too closely to a treeâ€”X cast off the bonds of home seeking understanding and redemption on far-flung roads where lush forests beckoned alongside cursed ruins steeped in bloodshed. Haunted yet steadfast as memories quickened shadows around him whenever dusk fell near treetops or old homes faded into twilight mistâ€”the echoes began calling forth traits more primal than any human could contain! Thus embarked upon a journey both inwardly perilous yet externally thrilling as battles erupted between light and dark affiliations testing loyalties along unexpected pathsâ€”the choice remained only one: would destiny mold him anew or devour what little remains?\\nIn a bustling city where the cobblestone streets whisper secrets and shadows dance under flickering lanterns, X was born in the heart of Tharindal. An unremarkable child to an equally ordinary family, they lived in a cramped quarter with their motherâ€”a skilled seamstressâ€”and father, a shipwright dreaming of distant horizons. But from a young age, X felt an alluring call towards adventure that often led them into mischief as they roamed through narrow alleyways and hidden tunnels beneath the city. Wandering beyond their mundane existence ignited within them an insatiable curiosity for history\\'s forgotten tales and ancient artifacts.\\nAs fate would have it, one evening while exploring abandoned catacombs rumored to house treasures from long-forgotten empires, X stumbled upon a tattered tome sealed away behind crumbling stone. The moment they opened its pages, whispers pulsed through the airâ€”echoes of necromancy entwined with arcane knowledge. This mysterious grimoire granted them powers previously unknown but came at a price: gradually drawing X into darker realms of magic. As years passed under its influence, they honed these newfound abilities as both scholar and thief, developing skills that allowed them to blend seamlessly into nocturnal settings like water merging with nightfall.\\nNow known among thieves as \"The Shadow Weaver,\" X walks a fine line between light and dark; emboldened by ambition yet haunted by questions about morality and purpose every time they gaze upon their stolen relics or read forbidden spells by candlelight. With each passing day spent slipping past guards in gilded halls or stealing enchanted baubles from corrupt nobility who hoard wealth meant for struggling commoners, deep down lies the hope that one such artifact might unveil answers about destiny and lend clarity over whether this path is woven from selfish desire or if there remains more meaningful reparations due before dawn rises on Tharindal once again. At last aware of their journey\\'s deeper significance lurking just beyond reachâ€”not merely escaping obscurity but discovering their true self amidst echoes lingering between shadowsâ€”X grips tightly onto possibility itself; ready at last to find redemption amidst all darkness enveloping them fully in anticipation for what awaits ahead.\\nX was born under a rare celestial alignment, when three moons hung low in the skyâ€”a portentous omen that marked him as different from birth. Raised in a quaint village nestled against the Mistwood Forest, X was the only child of humble farmers who sought to shield their son from his mystical heritage. They told tales of long-lost sorcerers and ancient curses, whispering warnings into the night while keeping an unwanted truth hidden: X\\'s bloodline flowed with the potent magic of his ancestors, a forbidden legacy that coursed through him like fire waiting for spark.\\nAs he grew older, strange phenomena began to manifest around Xâ€”embers would dance on his fingertips during moments of intense emotion; shadows shifted at his command when he entertained friends with stories by candlelight. It wasn\\'t until he inadvertently scorched half their vegetable garden while rescuing an injured bird that reality struck home: magic wasn\\'t just something sung about in tales; it thrummed within him, yearning for release. Driven by both fear and fascination, X ventured deep into Mistwood seeking understanding and acceptance among creatures whispered to be arcane professionalsâ€”the enigmatic fae inhabitants who roamed freely between worlds unseen.\\nDuring a moonlit encounter with Sylvara, a powerful archfey whose emerald eyes glimmered like dew-kissed leaves at sunrise, realization dawned upon him. She revealed that not only could she sense his latent power but also sensed the great potential slumbering insideâ€”it pulsed like a song beneath skin begging to be unveiled. Guided by her wisdom amid fantastical landscapes woven from dreams and nightmares alike, X grasped not merely how to wield this magic but also why it resonated within himâ€”a tapestry threaded alongside those who defied fate itself. With newfound purpose unfurling before him like wings emerging from chrysalis\\' embrace, X marched forward into destiny\\'s embrace ready to carve out his place as more than just another ordinary villager lost amidst whispers of concern; now reborn anew as Sorcerer following an extraordinary call towards greatness beyond imagination\\'s edge.\\nX was born in a small, windswept village nestled among the fog-laden hills of Eldoria, where tales of ancient magic intertwined with the whispers of the nearby woods. Her parents, humble farmers, nurtured her dreams and taught her to value nature\\'s bounty. As a child, she often wandered off into the woods, chasing after shimmering lights that danced just beyond her reach. It was during one such adventure when X stumbled upon an ancient stone circle hidden beneath twisting vines. Entranced by its beauty and unknowingly drawn by arcane energies, she touched one of the stones and felt an electric surge coursing through her veinsâ€”a power long forgotten.\\nYears passed before X could fully grasp what had happened that fateful day; life took on rhythms steeped in routine while a potent curiosity simmered within her soul. The villagers viewed her affinity for odd occurrencesâ€” crops growing faster near her touch or sudden storms swirling above as she laughedâ€”as mere eccentricity at first. However, when dark omens descended upon their homesâ€”wild animals vanished, crops failed without reasonâ€”their fear morphed into scorn directed toward X alone. Accused of bringing ruin due to unknown powers unleashed from the stone circle\\'s curse (as some claimed), she fled Eldoria with little more than determination and unease weighing heavily within.\\nAs she embarked on her journey across kingdoms teeming with wonder and danger alike, it became apparent that this newfound magical ability was both gift and burden; propelling her towards extraordinary encounters yet branding a target upon her back among those who sought to exploit or erase such potential threats. With each step forward along perilous paths scattered with treachery from roguish factions seeking power over realmsâ€”and allies imbued by their own mysterious historiesâ€”X learned not only to harness magic but also how intricately woven fate is amongst broken hearts yearning for redemption amid loss endured through betrayal or misunderstanding like hers in childhood memories still echoing faintly behind remembered laughter lost under starlit skies forever changed thereafter until finally converging as train tracks might blur then cleave together once again.\\nX, a half-elf with an enigmatic past, grew up on the fringes of Eldergrove Forest in a secluded village that whispered tales of magic and ancient spirits. Abandoned at birth by a mother who vanished into the shadows, X was raised by Elara, an elderly herbalist known for her affinity with nature and rumors of strange rituals. As a child, X often found solace among the towering trees and babbling brooks, feeling their pulse resonate within his own heart. It was here that he discovered his unique gift: the ability to communicate with plants and animals as though they were long-lost friends.\\nAs he blossomed into adulthood, whispers filled the air about dark forces stirring beyond the forest\\'s edgeâ€”hordes of marauding goblins bent on terrorizing nearby settlements. One fateful night during a violent storm, X sensed something amiss; the gentle rustle of leaves warned him before any human voice could shout an alarm. His intuition led him to gather villagers for defense against unseen threats lurking in the torrential downpour. After repelling their first attack through cunning strategy and his bond with wildlife alliesâ€”a swarm of birds distracted intruders while feral wolves harried them from behindâ€”the villagers hailed him as their protector.\\nDespite newfound appreciation from those around him, X felt restless; he had seen just how perilous life can be when darkness creeps too close to home. An old tome gifted by Elara revealed more about his origins than he had wished to know: sealed secrets hinted at noble bloodlines intertwined with shadowy affairs that brought ruin rather than glory upon distant kingdoms. With every passing day under sheltering boughs now teeming vibrantly alongside gratitude and unease alike, X resolved to embark on a quest not merely for adventure but also self-discoveryâ€”to unearth truth intertwined with destiny standing ever so tantalizingly out-of-reach across countless realms yet unexplored or unconqueredâ€”and perhaps restore balance between light cast forth from all peoples left adrift in unsettled strife\\'s embrace where heroes arise most unexpectedlyâ€”not always wielders strong swords nor honed magicks but hearts fervent driven beneath skies vast above shining brightly still through darkest eve illumined onward onto tomorrow\\'s gates forever opening wide beyond starlit horizons\\' approach anew each dawn awakes eternal!\\nX was born under the flickering light of a blood moon in the bustling town of Elyswen, renowned for its vibrant markets and whispered tales of magic. From a young age, X exhibited an uncanny affinity for manipulating shadows; while other children chased butterflies, they darted between alleys, weaving whispers through the evening mist as if each shadow called to them with secrets untold. Little did X know that this gift was both a blessing and a curse. Raised by their grandmotherâ€”a former priestess turned vagabondâ€”X learned early on about the delicate balance between light and dark, stories steeped in lore of ancient deities who danced upon destinies yet unfulfilled.\\nAs they grew older, curiosity mingled with discontent. The townsfolk regarded X\\'s abilities with suspicion; while some admired their talent at finding lost items or entertaining children with little illusions, others whispered rumors that blackened their name. Seeking acceptance beyond Elyswen\\'s stifling borders, X ventured into the nearby Glenwood Forest to train beneath an enigmatic mentor known only as Veilâ€”the last known witch residing among sylvan spirits and elder trees. Under Veil\\'s guidance over many moons, X honed not just magical prowess but also forged connections with nature\\'s creatures: squirrels became confidants while owls shared wisdom gathered from twilight skies.\\nYet peace is elusive for those attuned to shadows. When news spread that dark forces had begun corrupting sacred glades near Elyswenâ€”draining color from flowers and turning animals into mindless husksâ€”X understood this peril could return home along unseen paths. Fueled by determination and guided by every lesson learned within forest grove halls, they set out towards fresh horizons where adventure awaited amidst echoes of laughterâ€”all while remembering this crucial truth: embracing one\\'s darkness can illuminate even the most treacherous roads ahead.\\nn the quiet village of Eldertree, nestled between the Whispering Woods and the raging Alaric River, a child named X was born under a blood-red moon. From an early age, it became clear that X was different; while other children chased butterflies and climbed trees, they were seen in deep conversation with shadows that danced just beyond reach. When they turned ten, the town\\'s oracle visited Eldertree for one of her rare prophecy readings. To everyone\\'s shock, she proclaimed X to be \\'the vessel for visions untold,\\' destined to confront fate itself or risk being consumed by its flames.\\nAs frightened villagers began to shun themâ€”claiming no good could come from such powerâ€”X sought refuge within the ancient woods where spirits whispered secrets to any who dared listen. Guided by these ethereal beings, they discovered their ability to glimpse into possible futuresâ€”a gift accompanied by burdensome responsibilities and haunting truths about those they loved. It wasn\\'t until their beloved mentor was fatally injured during a raid that X understood true despair; in desperation, they had attempted to change fate but instead plunged deeper into darkness as nightmares clawed at their sanity.\\nNow older yet deeply troubled by self-doubt and fear of loss, X traverses lands both familiar and foreign in search of answers. They seek not only understanding but also redemptionâ€”to prove that destiny is not an unyielding chain but rather a path shaped by choices made along winding roads. Each new adventure promises more than glory; it may finally provide clarity on whether one can truly defy fate without losing themselves in the process. In this tumultuous journey ahead lies hope etched against uncertaintyâ€”the belief that even those marked with visions can carve out their own destinies amidst inevitable chaos.'"
      ]
     },
     "execution_count": 2,
     "metadata": {},
     "output_type": "execute_result"
    }
   ],
   "execution_count": 2
  },
  {
   "metadata": {},
   "cell_type": "markdown",
   "source": "### Replacing the X (character name context)",
   "id": "55a922008d5342dd"
  },
  {
   "metadata": {
    "ExecuteTime": {
     "end_time": "2025-05-15T19:35:12.925729Z",
     "start_time": "2025-05-15T19:35:12.922556Z"
    }
   },
   "cell_type": "code",
   "source": [
    "CHARACTER_NAME = \"Circle Lovelace\"\n",
    "\n",
    "train_data = train_data.replace('X', CHARACTER_NAME)"
   ],
   "id": "da1a1a7671e8be1e",
   "outputs": [],
   "execution_count": 3
  },
  {
   "metadata": {},
   "cell_type": "markdown",
   "source": "### Building the model",
   "id": "11eb34b151094243"
  },
  {
   "metadata": {
    "ExecuteTime": {
     "end_time": "2025-05-15T19:35:12.948536Z",
     "start_time": "2025-05-15T19:35:12.936643Z"
    }
   },
   "cell_type": "code",
   "source": [
    "# Number of words a next word depends on\n",
    "state_size = 2\n",
    "\n",
    "markov_model = markovify.Text(\n",
    "    input_text=train_data,\n",
    "    state_size=state_size\n",
    ")\n",
    "\n",
    "markov_model.state_size"
   ],
   "id": "a36688791b9b52a9",
   "outputs": [
    {
     "data": {
      "text/plain": [
       "2"
      ]
     },
     "execution_count": 4,
     "metadata": {},
     "output_type": "execute_result"
    }
   ],
   "execution_count": 4
  },
  {
   "metadata": {
    "ExecuteTime": {
     "end_time": "2025-05-15T19:35:12.957589Z",
     "start_time": "2025-05-15T19:35:12.952646Z"
    }
   },
   "cell_type": "code",
   "source": [
    "# (Optional) Compile to improve the model's generation speed and reduce its size\n",
    "markov_model = markov_model.compile()"
   ],
   "id": "3bd4cf27729c5234",
   "outputs": [],
   "execution_count": 5
  },
  {
   "metadata": {},
   "cell_type": "markdown",
   "source": "### Generating Sentences",
   "id": "a755ca47480b462c"
  },
  {
   "metadata": {
    "ExecuteTime": {
     "end_time": "2025-05-15T19:35:12.977768Z",
     "start_time": "2025-05-15T19:35:12.973487Z"
    }
   },
   "cell_type": "code",
   "source": [
    "# Generates a sentence no more than 300 characters\n",
    "result = markov_model.make_short_sentence(300)\n",
    "\n",
    "print(result)"
   ],
   "id": "af3a91b250d334d6",
   "outputs": [
    {
     "name": "stdout",
     "output_type": "stream",
     "text": [
      "Circle Lovelace was born during a raid that Circle Lovelace learned to harness nature's wrath while cultivating sacred herbs.\n"
     ]
    }
   ],
   "execution_count": 6
  },
  {
   "metadata": {},
   "cell_type": "markdown",
   "source": "### Generating a paragraph with N sentences",
   "id": "d14e9e19737ea722"
  },
  {
   "metadata": {
    "ExecuteTime": {
     "end_time": "2025-05-15T19:35:12.999331Z",
     "start_time": "2025-05-15T19:35:12.992560Z"
    }
   },
   "cell_type": "code",
   "source": [
    "# Generation parameters\n",
    "N_SENTENCES = 5\n",
    "N_CHARACTER_LIMIT = 300\n",
    "\n",
    "results = []\n",
    "for _ in range(N_SENTENCES):\n",
    "    results.append(markov_model.make_short_sentence(N_CHARACTER_LIMIT))\n",
    "\n",
    "print(\" \".join(results))"
   ],
   "id": "80b63b6a2bfde855",
   "outputs": [
    {
     "name": "stdout",
     "output_type": "stream",
     "text": [
      "Under Veil's guidance over many moons, Circle Lovelace was born in the town of Elyswen, renowned for its vibrant markets and whispered tales of magic. As he delved deeper into this arcane knowledge, Circle Lovelace stumbled upon an ancient stone circle hidden beneath twisting vines. Determined not to let despair take root in their heart, Circle Lovelace turned to forbidden texts hidden in his late grandfather's attic. As a child, Circle Lovelace was born under a blood-red moon in the process. Despite newfound appreciation from those around him, Circle Lovelace was born in a secluded place shrouded in mystery and superstition.\n"
     ]
    }
   ],
   "execution_count": 7
  },
  {
   "metadata": {
    "ExecuteTime": {
     "end_time": "2025-05-15T19:35:34.888782Z",
     "start_time": "2025-05-15T19:35:34.883189Z"
    }
   },
   "cell_type": "code",
   "source": [
    "# Generation parameters\n",
    "N_SENTENCES = 5\n",
    "min_words = 4\n",
    "max_words = 25\n",
    "\n",
    "results = []\n",
    "for _ in range(N_SENTENCES):\n",
    "    result = None\n",
    "    # Prevent no result\n",
    "    while result is None:\n",
    "        result = markov_model.make_sentence(\n",
    "        min_words=min_words,\n",
    "        max_words=max_words\n",
    "    )\n",
    "    results.append(result)\n",
    "\n",
    "print(\" \".join(results))"
   ],
   "id": "6801c593d08d53de",
   "outputs": [
    {
     "name": "stdout",
     "output_type": "stream",
     "text": [
      "Yet power has its price: each incantation drained fragments of his ancestors, a forbidden legacy that coursed through him like fire waiting for spark. Despite newfound appreciation from those around him, Circle Lovelace honed not just magical prowess but also forged connections with nature's spirits. Abandoned at birth by a mother who vanished into the woods, chasing after shimmering lights that danced just beyond reach. From an early age, it became clear that Circle Lovelace turned ten, the town's oracle visited Eldertree for one of her rare prophecy readings. As years passed under its influence, they honed these newfound abilities as both an omen and a blessing.\n"
     ]
    }
   ],
   "execution_count": 50
  }
 ],
 "metadata": {
  "kernelspec": {
   "display_name": "Python 3",
   "language": "python",
   "name": "python3"
  },
  "language_info": {
   "codemirror_mode": {
    "name": "ipython",
    "version": 2
   },
   "file_extension": ".py",
   "mimetype": "text/x-python",
   "name": "python",
   "nbconvert_exporter": "python",
   "pygments_lexer": "ipython2",
   "version": "2.7.6"
  }
 },
 "nbformat": 4,
 "nbformat_minor": 5
}
